{
 "cells": [
  {
   "cell_type": "code",
   "execution_count": 1,
   "id": "5d2facbc",
   "metadata": {},
   "outputs": [
    {
     "name": "stdout",
     "output_type": "stream",
     "text": [
      "New PDF created with selected pages.\n"
     ]
    }
   ],
   "source": [
    "from pypdf import PdfReader, PdfWriter\n",
    "\n",
    "# Load the original PDF\n",
    "reader = PdfReader(\"Georgia Tech Transcript.pdf\")\n",
    "\n",
    "# Create a writer object for the new PDF\n",
    "writer = PdfWriter()\n",
    "\n",
    "# Specify the page numbers you want to include (0-indexed)\n",
    "pages_to_include = [1,2,3]  # For example: first, third, and fifth pages\n",
    "\n",
    "# Add specified pages to the writer\n",
    "for page_num in pages_to_include:\n",
    "    writer.add_page(reader.pages[page_num])\n",
    "\n",
    "# Write the new PDF to a file\n",
    "with open(\"subset.pdf\", \"wb\") as f:\n",
    "    writer.write(f)\n",
    "\n",
    "print(\"New PDF created with selected pages.\")\n"
   ]
  },
  {
   "cell_type": "code",
   "execution_count": null,
   "id": "09e74dde",
   "metadata": {},
   "outputs": [],
   "source": []
  }
 ],
 "metadata": {
  "kernelspec": {
   "display_name": "dashboards",
   "language": "python",
   "name": "python3"
  },
  "language_info": {
   "codemirror_mode": {
    "name": "ipython",
    "version": 3
   },
   "file_extension": ".py",
   "mimetype": "text/x-python",
   "name": "python",
   "nbconvert_exporter": "python",
   "pygments_lexer": "ipython3",
   "version": "3.12.0"
  }
 },
 "nbformat": 4,
 "nbformat_minor": 5
}
