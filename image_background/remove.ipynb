{
 "cells": [
  {
   "cell_type": "code",
   "execution_count": 2,
   "id": "3f4fd381",
   "metadata": {},
   "outputs": [
    {
     "name": "stderr",
     "output_type": "stream",
     "text": [
      "Downloading data from 'https://github.com/danielgatis/rembg/releases/download/v0.0.0/u2net.onnx' to file '/Users/hellozhems/.u2net/u2net.onnx'.\n",
      "100%|████████████████████████████████████████| 176M/176M [00:00<00:00, 214GB/s]\n"
     ]
    }
   ],
   "source": [
    "from rembg import remove\n",
    "from PIL import Image\n",
    "\n",
    "# Load original image\n",
    "input_image = Image.open(\"IMG_2370.JPG\")\n",
    "\n",
    "# Remove background\n",
    "output_image = remove(input_image)\n",
    "\n",
    "# Create white background image\n",
    "white_bg = Image.new(\"RGBA\", output_image.size, (255, 255, 255, 255))\n",
    "\n",
    "# Paste the subject on white background\n",
    "final_image = Image.alpha_composite(white_bg, output_image)\n",
    "\n",
    "# Save result\n",
    "final_image.convert(\"RGB\").save(\"output_white_bg.jpg\", \"JPEG\")\n"
   ]
  },
  {
   "cell_type": "code",
   "execution_count": null,
   "id": "f462c3df",
   "metadata": {},
   "outputs": [],
   "source": []
  }
 ],
 "metadata": {
  "kernelspec": {
   "display_name": "dashboards",
   "language": "python",
   "name": "python3"
  },
  "language_info": {
   "codemirror_mode": {
    "name": "ipython",
    "version": 3
   },
   "file_extension": ".py",
   "mimetype": "text/x-python",
   "name": "python",
   "nbconvert_exporter": "python",
   "pygments_lexer": "ipython3",
   "version": "3.12.0"
  }
 },
 "nbformat": 4,
 "nbformat_minor": 5
}
