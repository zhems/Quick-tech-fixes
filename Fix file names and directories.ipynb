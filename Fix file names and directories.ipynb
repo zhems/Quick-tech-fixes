{
 "cells": [
  {
   "cell_type": "markdown",
   "id": "d8446e33-1059-4a68-a0e0-beb3317d08f8",
   "metadata": {},
   "source": [
    "# File transfer error\n",
    "Fixing error during file transfer when directories for all files and folders within each root folder got concantenated with '\\\\\\\\'"
   ]
  },
  {
   "cell_type": "code",
   "execution_count": 1,
   "id": "7b37e8b6-a2e8-4084-9247-223c3e9ff90a",
   "metadata": {},
   "outputs": [],
   "source": [
    "import os\n",
    "import shutil"
   ]
  },
  {
   "cell_type": "code",
   "execution_count": 32,
   "id": "cf82a6b7-0e11-470c-8870-f5c6fbf2dd0b",
   "metadata": {},
   "outputs": [],
   "source": [
    "os.chdir('/Users/hellozhems/Documents/Videos/Party Down')"
   ]
  },
  {
   "cell_type": "code",
   "execution_count": 33,
   "id": "bbb9978a-4d8b-4771-9eb7-90118bc4492a",
   "metadata": {},
   "outputs": [
    {
     "data": {
      "text/plain": [
       "'/Users/hellozhems/Documents/Videos/Party Down'"
      ]
     },
     "execution_count": 33,
     "metadata": {},
     "output_type": "execute_result"
    }
   ],
   "source": [
    "os.getcwd()"
   ]
  },
  {
   "cell_type": "code",
   "execution_count": 34,
   "id": "33fd0414-5e0b-46b2-a5cf-933746f75f73",
   "metadata": {},
   "outputs": [
    {
     "data": {
      "text/plain": [
       "['Party Down Season 2\\\\Party.Down.S02E01.720p.HDTV.x264.mkv',\n",
       " 'Party Down Season 2\\\\Party.Down.S02E10.720p.HDTV.x264.srt',\n",
       " 'Party Down - Season 1',\n",
       " '.DS_Store',\n",
       " 'Party Down Season 2\\\\Party.Down.S02E03.720p.HDTV.x264.srt',\n",
       " 'Party Down Season 2\\\\Party.Down.S02E02.720p.HDTV.x264.mkv',\n",
       " 'Party Down Season 2\\\\Party.Down.S02E05.720p.HDTV.x264.srt',\n",
       " 'Party Down Season 2\\\\Party.Down.S02E08.720p.HDTV.x264.srt',\n",
       " 'Party Down Season 2\\\\Party.Down.S02E09.720p.HDTV.x264.mkv',\n",
       " 'Party Down Season 2\\\\Party.Down.S02E04.720p.HDTV.x264.mkv',\n",
       " 'Party Down - Season 1\\\\Party.Down.S01E09.HDTV.XviD-SYS.avi',\n",
       " 'Party Down - Season 1\\\\Party.Down.S01E08.HDTV.XviD-LOL.avi',\n",
       " 'Party Down Season 2\\\\Party.Down.S02E07.720p.HDTV.x264.mkv',\n",
       " 'Party Down Season 2\\\\Party.Down.S02E06.720p.HDTV.x264.srt',\n",
       " 'Party Down - Season 1\\\\Party.Down.S01E01.HDTV.XviD-SYS.avi',\n",
       " 'Party Down Season 2',\n",
       " 'Party Down Season 2\\\\Party.Down.S02E07.720p.HDTV.x264.srt',\n",
       " 'Party Down Season 2\\\\Party.Down.S02E06.720p.HDTV.x264.mkv',\n",
       " 'Party Down - Season 1\\\\Party.Down.S01E04.HDTV.XviD-SYS.avi',\n",
       " 'Party Down Season 2\\\\Party.Down.S02E08.720p.HDTV.x264.mkv',\n",
       " 'Party Down Season 2\\\\Party.Down.S02E05.720p.HDTV.x264.mkv',\n",
       " 'Party Down Season 2\\\\Party.Down.S02E04.720p.HDTV.x264.srt',\n",
       " 'Party Down Season 2\\\\Party.Down.S02E09.720p.HDTV.x264.srt',\n",
       " 'Party Down - Season 1\\\\Party.Down.S02E10.HDTV.XviD-SYS.avi',\n",
       " 'Party Down - Season 1\\\\Party.Down.S01E03.HDTV.XviD-SYS.avi',\n",
       " 'Party_Down - season 1.en',\n",
       " 'Party Down Season 2\\\\Party.Down.S02E03.720p.HDTV.x264.mkv',\n",
       " 'Party Down - Season 1\\\\Party.Down.S01E05.HDTV.XviD-0TV.avi',\n",
       " 'Party Down - Season 1\\\\Party.Down.S01E06.HDTV.XviD-SYS.avi',\n",
       " 'Party Down Season 2\\\\Party.Down.S02E02.720p.HDTV.x264.srt',\n",
       " 'Party Down Season 2\\\\Party.Down.S02E10.720p.HDTV.x264.mkv',\n",
       " 'Party Down Season 2\\\\Party.Down.S02E01.720p.HDTV.x264.srt',\n",
       " 'Party Down - Season 1\\\\Party.Down.S01E07.HDTV.XviD-LOL.avi',\n",
       " 'Party Down - Season 1\\\\Party.Down.S01E02.HDTV.XVID-BAJSKORV.avi']"
      ]
     },
     "execution_count": 34,
     "metadata": {},
     "output_type": "execute_result"
    }
   ],
   "source": [
    "[i for i in os.listdir()] # if os.path.isdir(i)"
   ]
  },
  {
   "cell_type": "code",
   "execution_count": 6,
   "id": "67651740-7714-44fd-a563-6d8783724f42",
   "metadata": {},
   "outputs": [
    {
     "data": {
      "text/plain": [
       "['180222 trafo noise TUD.pdf']"
      ]
     },
     "execution_count": 6,
     "metadata": {},
     "output_type": "execute_result"
    }
   ],
   "source": [
    "'180222 trafo noise TUD.pdf'.split('\\\\',1)"
   ]
  },
  {
   "cell_type": "code",
   "execution_count": 25,
   "id": "e4ebe56c-a4f5-4b28-afce-cd9f4089f9ff",
   "metadata": {},
   "outputs": [],
   "source": [
    "def rename_and_move_files(directory=None):\n",
    "    if directory is not None:\n",
    "        os.chdir(directory)\n",
    "    all_items = os.listdir()\n",
    "    \n",
    "    check = False\n",
    "    for item in all_items:\n",
    "        if '\\\\' in item:\n",
    "            check = True\n",
    "    if not check:\n",
    "        return\n",
    "    \n",
    "    all_folders, all_files = [], []\n",
    "    for item in all_items:\n",
    "        if os.path.isdir(item) and len(item.split('\\\\'))==1:\n",
    "            all_folders.append(item)\n",
    "        else:\n",
    "            all_files.append(item)\n",
    "    \n",
    "    for item in all_files:\n",
    "        split_name = item.split('\\\\',1)\n",
    "        if len(split_name) != 2:\n",
    "            continue\n",
    "        folder, file_name = split_name\n",
    "        shutil.move(item, folder+'/'+file_name)\n",
    "        \n",
    "    for folder in all_folders:\n",
    "        os.chdir(folder)\n",
    "        rename_and_move_files()\n",
    "        os.chdir('..')"
   ]
  },
  {
   "cell_type": "code",
   "execution_count": 8,
   "id": "92a5393c-1787-441b-9dfe-3aeb2bb37082",
   "metadata": {},
   "outputs": [],
   "source": [
    "for item in [i for i in os.listdir() if os.path.isdir(i)]\n",
    "    rename_and_move_files()"
   ]
  },
  {
   "cell_type": "code",
   "execution_count": 30,
   "id": "90779257-999c-420a-8ded-4255a43622e4",
   "metadata": {},
   "outputs": [],
   "source": [
    "for item in [i for i in os.listdir() if os.path.isdir(i)]:\n",
    "    os.chdir(item)\n",
    "    rename_and_move_files()\n",
    "    os.chdir('..')"
   ]
  }
 ],
 "metadata": {
  "kernelspec": {
   "display_name": "Python 3",
   "language": "python",
   "name": "python3"
  },
  "language_info": {
   "codemirror_mode": {
    "name": "ipython",
    "version": 3
   },
   "file_extension": ".py",
   "mimetype": "text/x-python",
   "name": "python",
   "nbconvert_exporter": "python",
   "pygments_lexer": "ipython3",
   "version": "3.8.11"
  }
 },
 "nbformat": 4,
 "nbformat_minor": 5
}
