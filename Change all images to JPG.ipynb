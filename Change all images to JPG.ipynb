{
 "cells": [
  {
   "cell_type": "code",
   "execution_count": null,
   "metadata": {},
   "outputs": [],
   "source": [
    "import os\n",
    "from PIL import Image\n",
    "os.listdir('images_original')\n",
    "counter = 1\n",
    "for i in ['images_original/'+i for i in os.listdir('images_original') if '.jpg' in i.lower()]:\n",
    "    im = Image.open(i)\n",
    "    im.save(f'images/{counter}.jpg')\n",
    "    counter += 1\n",
    "\n",
    "for i in ['images_original/'+i for i in os.listdir('images_original') if '.png' in i.lower()]:\n",
    "    im = Image.open(i).convert('RGB')\n",
    "    im.save(f'images/{counter}.jpg')\n",
    "    counter += 1"
   ]
  }
 ],
 "metadata": {
  "language_info": {
   "name": "python"
  }
 },
 "nbformat": 4,
 "nbformat_minor": 2
}
