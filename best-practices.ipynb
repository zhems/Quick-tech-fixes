{
 "cells": [
  {
   "cell_type": "markdown",
   "metadata": {},
   "source": [
    "https://github.com/ArjanCodes/examples/"
   ]
  },
  {
   "cell_type": "markdown",
   "metadata": {},
   "source": [
    "### Nested list comprehension"
   ]
  },
  {
   "cell_type": "code",
   "execution_count": 1,
   "metadata": {},
   "outputs": [],
   "source": [
    "lists = [[1,2,3,4],[5,6,7,8]]"
   ]
  },
  {
   "cell_type": "code",
   "execution_count": 3,
   "metadata": {},
   "outputs": [
    {
     "data": {
      "text/plain": [
       "[[1, 2, 3, 4], [5, 6, 7, 8]]"
      ]
     },
     "execution_count": 3,
     "metadata": {},
     "output_type": "execute_result"
    }
   ],
   "source": [
    "[r for r in lists]"
   ]
  },
  {
   "cell_type": "markdown",
   "metadata": {},
   "source": [
    "nested comprehension"
   ]
  },
  {
   "cell_type": "code",
   "execution_count": 4,
   "metadata": {},
   "outputs": [
    {
     "data": {
      "text/plain": [
       "[1, 2, 3, 4, 5, 6, 7, 8]"
      ]
     },
     "execution_count": 4,
     "metadata": {},
     "output_type": "execute_result"
    }
   ],
   "source": [
    "[num for row in lists for num in row]"
   ]
  },
  {
   "cell_type": "markdown",
   "metadata": {},
   "source": [
    "### F-string formatting"
   ]
  },
  {
   "cell_type": "code",
   "execution_count": 7,
   "metadata": {},
   "outputs": [
    {
     "name": "stdout",
     "output_type": "stream",
     "text": [
      "Pi to 2 sf: 3.14\n"
     ]
    }
   ],
   "source": [
    "pi = 3.142454\n",
    "print(f'Pi to 2 sf: {pi:.2f}')"
   ]
  },
  {
   "cell_type": "code",
   "execution_count": 3,
   "metadata": {},
   "outputs": [
    {
     "name": "stdout",
     "output_type": "stream",
     "text": [
      "Population of Singapore: 6,123,456 people\n"
     ]
    }
   ],
   "source": [
    "pop = 6123456\n",
    "print(f'Population of Singapore: {pop:,} people')"
   ]
  },
  {
   "cell_type": "code",
   "execution_count": 7,
   "metadata": {},
   "outputs": [
    {
     "name": "stdout",
     "output_type": "stream",
     "text": [
      "Percentage of males: 49.236% of people\n"
     ]
    }
   ],
   "source": [
    "pop = 0.492364\n",
    "print(f'Percentage of males: {pop:.3%} of people')"
   ]
  },
  {
   "cell_type": "code",
   "execution_count": 14,
   "metadata": {},
   "outputs": [
    {
     "name": "stdout",
     "output_type": "stream",
     "text": [
      "datetime now: 2025-01-28\n"
     ]
    }
   ],
   "source": [
    "from datetime import datetime\n",
    "\n",
    "now = datetime.now()\n",
    "print(f'datetime now: {now:%Y-%m-%d}')"
   ]
  },
  {
   "cell_type": "markdown",
   "metadata": {},
   "source": [
    "alignment"
   ]
  },
  {
   "cell_type": "code",
   "execution_count": 18,
   "metadata": {},
   "outputs": [
    {
     "name": "stdout",
     "output_type": "stream",
     "text": [
      "Python               is left aligned\n",
      "       Python        is centered\n",
      "              Python is right aligned\n"
     ]
    }
   ],
   "source": [
    "name = 'Python'\n",
    "print(f'{name:<20} is left aligned')\n",
    "print(f'{name:^20} is centered')\n",
    "print(f'{name:>20} is right aligned')"
   ]
  },
  {
   "cell_type": "markdown",
   "metadata": {},
   "source": [
    "debugging"
   ]
  },
  {
   "cell_type": "code",
   "execution_count": 20,
   "metadata": {},
   "outputs": [
    {
     "name": "stdout",
     "output_type": "stream",
     "text": [
      "val=42\n",
      "val**2=1764\n"
     ]
    }
   ],
   "source": [
    "val = 42\n",
    "print(f'{val=}')\n",
    "print(f'{val**2=}')"
   ]
  },
  {
   "cell_type": "markdown",
   "metadata": {},
   "source": [
    "zip for matrix rotation"
   ]
  },
  {
   "cell_type": "code",
   "execution_count": 21,
   "metadata": {},
   "outputs": [
    {
     "name": "stdout",
     "output_type": "stream",
     "text": [
      "[7, 4, 1]\n",
      "[8, 5, 2]\n",
      "[9, 6, 3]\n"
     ]
    }
   ],
   "source": [
    "def rotate_matrix_clockwise(matrix):\n",
    "    return [list(row) for row in zip(*matrix[::-1])]\n",
    "\n",
    "# Example usage\n",
    "matrix = [\n",
    "    [1, 2, 3],\n",
    "    [4, 5, 6],\n",
    "    [7, 8, 9]\n",
    "]\n",
    "\n",
    "rotated = rotate_matrix_clockwise(matrix)\n",
    "for row in rotated:\n",
    "    print(row)\n"
   ]
  },
  {
   "cell_type": "markdown",
   "metadata": {},
   "source": [
    "### Context Manager"
   ]
  },
  {
   "cell_type": "code",
   "execution_count": 26,
   "metadata": {},
   "outputs": [
    {
     "name": "stdout",
     "output_type": "stream",
     "text": [
      "Sum computed: 49999995000000\n",
      "Elapsed time : 0.23 seconds\n"
     ]
    }
   ],
   "source": [
    "import time\n",
    "from contextlib import contextmanager\n",
    "\n",
    "@contextmanager\n",
    "def timer():\n",
    "    start = time.time()\n",
    "    yield \n",
    "    # with func runs until here\n",
    "    end = time.time()\n",
    "    print(f'Elapsed time : {end - start:.2f} seconds')\n",
    "    # code until here runs after exiting context management\n",
    "\n",
    "with timer():\n",
    "    total = sum(range(10_000_000))\n",
    "    print(f'Sum computed: {total}')"
   ]
  },
  {
   "cell_type": "markdown",
   "metadata": {},
   "source": [
    "### Typing"
   ]
  },
  {
   "cell_type": "code",
   "execution_count": null,
   "metadata": {},
   "outputs": [],
   "source": [
    "from typing import Iterable, Optional"
   ]
  },
  {
   "cell_type": "markdown",
   "metadata": {},
   "source": [
    "### Abstract Base Classes"
   ]
  },
  {
   "cell_type": "code",
   "execution_count": 27,
   "metadata": {},
   "outputs": [
    {
     "name": "stdout",
     "output_type": "stream",
     "text": [
      "Processing $100.0 payment via PayPal.\n",
      "Processing $200.0 payment via Stripe.\n"
     ]
    }
   ],
   "source": [
    "from abc import ABC, abstractmethod\n",
    "\n",
    "\n",
    "class PaymentProcessor(ABC):\n",
    "    @abstractmethod\n",
    "    def process_payment(self, amount: float) -> None:\n",
    "        pass\n",
    "\n",
    "\n",
    "class PayPalProcessor(PaymentProcessor):\n",
    "    def process_payment(self, amount: float) -> None:\n",
    "        print(f\"Processing ${amount} payment via PayPal.\")\n",
    "\n",
    "\n",
    "class StripeProcessor(PaymentProcessor):\n",
    "    def process_payment(self, amount: float) -> None:\n",
    "        print(f\"Processing ${amount} payment via Stripe.\")\n",
    "\n",
    "\n",
    "def process_order(amount: float, processor: PaymentProcessor) -> None:\n",
    "    processor.process_payment(amount)\n",
    "\n",
    "\n",
    "paypal = PayPalProcessor()\n",
    "stripe = StripeProcessor()\n",
    "process_order(100.0, paypal)\n",
    "process_order(200.0, stripe)"
   ]
  },
  {
   "cell_type": "markdown",
   "metadata": {},
   "source": [
    "### Classes, Dataclasses and Functions"
   ]
  },
  {
   "cell_type": "code",
   "execution_count": 28,
   "metadata": {},
   "outputs": [
    {
     "name": "stdout",
     "output_type": "stream",
     "text": [
      "$3.50\n"
     ]
    }
   ],
   "source": [
    "from decimal import Decimal\n",
    "\n",
    "\n",
    "class ShoppingCart:\n",
    "    def __init__(self) -> None:\n",
    "        self.items = []\n",
    "\n",
    "    def add_item(self, item: str, price: Decimal) -> None:\n",
    "        self.items.append({\"item\": item, \"price\": price})\n",
    "\n",
    "    def total(self) -> Decimal:\n",
    "        return sum(item[\"price\"] for item in self.items)\n",
    "\n",
    "\n",
    "cart = ShoppingCart()\n",
    "cart.add_item(\"apple\", Decimal(\"1.5\"))\n",
    "cart.add_item(\"banana\", Decimal(\"2.0\"))\n",
    "print(f\"${cart.total():.2f}\")"
   ]
  },
  {
   "cell_type": "code",
   "execution_count": 29,
   "metadata": {},
   "outputs": [
    {
     "name": "stdout",
     "output_type": "stream",
     "text": [
      "Item(name='apple', price=Decimal('1.5'))\n",
      "$1.50\n"
     ]
    }
   ],
   "source": [
    "from dataclasses import dataclass, field\n",
    "from decimal import Decimal\n",
    "\n",
    "\n",
    "@dataclass # order enables sorting, frozen locks editing\n",
    "# @dataclass(order = True, frozen = True)\n",
    "class Item:\n",
    "    name: str\n",
    "    price: Decimal\n",
    "    # sort_index: int = field(init = False, repr = False)\n",
    "    # strength: int = 100\n",
    "\n",
    "    # def __post_init__(self):\n",
    "    #   self.sort_index = self.strength\n",
    "    #   object.__setattr__(self, 'sort_index', self.strength)\n",
    "\n",
    "\n",
    "item = Item(name=\"apple\", price=Decimal(\"1.5\"))\n",
    "print(item)\n",
    "print(f\"${item.price:.2f}\")"
   ]
  },
  {
   "cell_type": "markdown",
   "metadata": {},
   "source": [
    "functions for stateless operations"
   ]
  },
  {
   "cell_type": "code",
   "execution_count": 30,
   "metadata": {},
   "outputs": [
    {
     "name": "stdout",
     "output_type": "stream",
     "text": [
      "$3.15\n"
     ]
    }
   ],
   "source": [
    "from dataclasses import dataclass\n",
    "from decimal import Decimal\n",
    "\n",
    "\n",
    "@dataclass\n",
    "class Item:\n",
    "    name: str\n",
    "    price: Decimal\n",
    "\n",
    "\n",
    "class ShoppingCart:\n",
    "    def __init__(self) -> None:\n",
    "        self.items: list[Item] = []\n",
    "\n",
    "    def add_item(self, item: Item) -> None:\n",
    "        self.items.append(item)\n",
    "\n",
    "    def total(self) -> Decimal:\n",
    "        return sum(item.price for item in self.items)\n",
    "\n",
    "\n",
    "def calculate_discount(cart: ShoppingCart, discount: Decimal) -> Decimal:\n",
    "    return cart.total() * (1 - discount / 100)\n",
    "\n",
    "\n",
    "cart = ShoppingCart()\n",
    "cart.add_item(Item(\"apple\", Decimal(\"1.5\")))\n",
    "cart.add_item(Item(\"banana\", Decimal(\"2.0\")))\n",
    "\n",
    "discounted_price = calculate_discount(cart, Decimal(\"10\"))\n",
    "print(f\"${discounted_price:.2f}\")"
   ]
  },
  {
   "cell_type": "markdown",
   "metadata": {},
   "source": [
    "### Decorators\n",
    "\n",
    "https://github.com/ArjanCodes/2023-decorator/blob/main/decorator_func.py"
   ]
  },
  {
   "cell_type": "code",
   "execution_count": null,
   "metadata": {},
   "outputs": [],
   "source": [
    "import logging\n",
    "from math import sqrt\n",
    "from time import perf_counter\n",
    "from typing import Any, Callable\n",
    "\n",
    "\n",
    "def with_logging(func: Callable[..., Any]) -> Callable[..., Any]:\n",
    "    def wrapper(*args: Any, **kwargs: Any) -> Any:\n",
    "        logging.info(f\"Calling {func.__name__}\")\n",
    "        value = func(*args, **kwargs)\n",
    "        logging.info(f\"Finished {func.__name__}\")\n",
    "        return value\n",
    "\n",
    "    return wrapper\n",
    "\n",
    "\n",
    "def benchmark(func: Callable[..., Any]) -> Callable[..., Any]:\n",
    "    def wrapper(*args: Any, **kwargs: Any) -> Any:\n",
    "        start_time = perf_counter()\n",
    "        value = func(*args, **kwargs)\n",
    "        end_time = perf_counter()\n",
    "        run_time = end_time - start_time\n",
    "        logging.info(f\"Execution of {func.__name__} took {run_time:.2f} seconds.\")\n",
    "        return value\n",
    "\n",
    "    return wrapper\n",
    "\n",
    "\n",
    "def is_prime(number: int) -> bool:\n",
    "    if number < 2:\n",
    "        return False\n",
    "    for element in range(2, sqrt(number) + 1):\n",
    "        if number % element == 0:\n",
    "            return False\n",
    "    return True\n",
    "\n",
    "\n",
    "@with_logging\n",
    "@benchmark\n",
    "def count_prime_numbers(upper_bound: int) -> int:\n",
    "    count = 0\n",
    "    for number in range(upper_bound):\n",
    "        if is_prime(number):\n",
    "            count += 1\n",
    "    return count\n",
    "\n",
    "\n",
    "def main() -> None:\n",
    "    logging.basicConfig(level=logging.INFO)\n",
    "    count_prime_numbers(50000)\n",
    "\n",
    "\n",
    "if __name__ == \"__main__\":\n",
    "    main()"
   ]
  },
  {
   "cell_type": "markdown",
   "metadata": {},
   "source": [
    "### Partial (functools)\n",
    "\n",
    "https://github.com/ArjanCodes/2022-functions/blob/main/strategy_fn_partial.py"
   ]
  },
  {
   "cell_type": "code",
   "execution_count": 31,
   "metadata": {},
   "outputs": [
    {
     "ename": "ModuleNotFoundError",
     "evalue": "No module named 'exchange'",
     "output_type": "error",
     "traceback": [
      "\u001b[0;31m---------------------------------------------------------------------------\u001b[0m",
      "\u001b[0;31mModuleNotFoundError\u001b[0m                       Traceback (most recent call last)",
      "Cell \u001b[0;32mIn[31], line 9\u001b[0m\n\u001b[1;32m      6\u001b[0m \u001b[38;5;28;01mfrom\u001b[39;00m \u001b[38;5;21;01mfunctools\u001b[39;00m \u001b[38;5;28;01mimport\u001b[39;00m partial\n\u001b[1;32m      7\u001b[0m \u001b[38;5;28;01mfrom\u001b[39;00m \u001b[38;5;21;01mtyping\u001b[39;00m \u001b[38;5;28;01mimport\u001b[39;00m Callable\n\u001b[0;32m----> 9\u001b[0m \u001b[38;5;28;01mfrom\u001b[39;00m \u001b[38;5;21;01mexchange\u001b[39;00m \u001b[38;5;28;01mimport\u001b[39;00m Exchange\n\u001b[1;32m     11\u001b[0m TradingStrategyFunction \u001b[38;5;241m=\u001b[39m Callable[[\u001b[38;5;28mlist\u001b[39m[\u001b[38;5;28mint\u001b[39m]], \u001b[38;5;28mbool\u001b[39m]\n\u001b[1;32m     14\u001b[0m \u001b[38;5;28;01mdef\u001b[39;00m \u001b[38;5;21mshould_buy_avg\u001b[39m(prices: \u001b[38;5;28mlist\u001b[39m[\u001b[38;5;28mint\u001b[39m], window_size: \u001b[38;5;28mint\u001b[39m) \u001b[38;5;241m-\u001b[39m\u001b[38;5;241m>\u001b[39m \u001b[38;5;28mbool\u001b[39m:\n",
      "\u001b[0;31mModuleNotFoundError\u001b[0m: No module named 'exchange'"
     ]
    }
   ],
   "source": [
    "\"\"\"\n",
    "Basic example of a Trading bot with a strategy pattern.\n",
    "\"\"\"\n",
    "import statistics\n",
    "from dataclasses import dataclass\n",
    "from functools import partial\n",
    "from typing import Callable\n",
    "\n",
    "from exchange import Exchange\n",
    "\n",
    "TradingStrategyFunction = Callable[[list[int]], bool]\n",
    "\n",
    "\n",
    "def should_buy_avg(prices: list[int], window_size: int) -> bool:\n",
    "    list_window = prices[-window_size:]\n",
    "    return prices[-1] < statistics.mean(list_window)\n",
    "\n",
    "\n",
    "def should_sell_avg(prices: list[int], window_size: int) -> bool:\n",
    "    list_window = prices[-window_size:]\n",
    "    return prices[-1] > statistics.mean(list_window)\n",
    "\n",
    "\n",
    "def should_buy_minmax(prices: list[int], max_price: int) -> bool:\n",
    "    # buy if it's below the max price\n",
    "    return prices[-1] < max_price\n",
    "\n",
    "\n",
    "def should_sell_minmax(prices: list[int], min_price: int) -> bool:\n",
    "    # sell if it's above the min price\n",
    "    return prices[-1] > min_price\n",
    "\n",
    "\n",
    "@dataclass\n",
    "class TradingBot:\n",
    "    \"\"\"Trading bot that connects to a crypto exchange and performs trades.\"\"\"\n",
    "\n",
    "    exchange: Exchange\n",
    "    buy_strategy: TradingStrategyFunction\n",
    "    sell_strategy: TradingStrategyFunction\n",
    "\n",
    "    def run(self, symbol: str) -> None:\n",
    "        prices = self.exchange.get_market_data(symbol)\n",
    "        if self.buy_strategy(prices):\n",
    "            self.exchange.buy(symbol, 10)\n",
    "        elif self.sell_strategy(prices):\n",
    "            self.exchange.sell(symbol, 10)\n",
    "        else:\n",
    "            print(f\"No action needed for {symbol}.\")\n",
    "\n",
    "\n",
    "def main() -> None:\n",
    "    # create the exchange and connect to it\n",
    "    exchange = Exchange()\n",
    "    exchange.connect()\n",
    "\n",
    "    # create the trading bot and run the bot once\n",
    "    buy_strategy = partial(should_buy_minmax, max_price=32_000_00)\n",
    "    sell_strategy = partial(should_sell_minmax, min_price=38_000_00)\n",
    "    bot = TradingBot(exchange, buy_strategy, sell_strategy)\n",
    "    bot.run(\"BTC/USD\")\n",
    "\n",
    "\n",
    "if __name__ == \"__main__\":\n",
    "    main()"
   ]
  },
  {
   "cell_type": "markdown",
   "metadata": {},
   "source": [
    "### Pydantic\n",
    "\n",
    "https://github.com/ArjanCodes/2021-pydantic/blob/main/example.py"
   ]
  },
  {
   "cell_type": "code",
   "execution_count": null,
   "metadata": {},
   "outputs": [],
   "source": [
    "\"\"\"\n",
    "Basic example showing how to read and validate data from a file using Pydantic.\n",
    "\"\"\"\n",
    "\n",
    "import json\n",
    "from typing import List, Optional\n",
    "\n",
    "import pydantic\n",
    "\n",
    "\n",
    "class ISBNMissingError(Exception):\n",
    "    \"\"\"Custom error that is raised when both ISBN10 and ISBN13 are missing.\"\"\"\n",
    "\n",
    "    def __init__(self, title: str, message: str) -> None:\n",
    "        self.title = title\n",
    "        self.message = message\n",
    "        super().__init__(message)\n",
    "\n",
    "\n",
    "class ISBN10FormatError(Exception):\n",
    "    \"\"\"Custom error that is raised when ISBN10 doesn't have the right format.\"\"\"\n",
    "\n",
    "    def __init__(self, value: str, message: str) -> None:\n",
    "        self.value = value\n",
    "        self.message = message\n",
    "        super().__init__(message)\n",
    "\n",
    "\n",
    "class Author(pydantic.BaseModel):\n",
    "    name: str\n",
    "    verified: bool\n",
    "\n",
    "\n",
    "class Book(pydantic.BaseModel):\n",
    "    \"\"\"Represents a book with that you can read from a JSON file.\"\"\"\n",
    "\n",
    "    title: str\n",
    "    author: str\n",
    "    publisher: str\n",
    "    price: float\n",
    "    isbn_10: Optional[str]\n",
    "    isbn_13: Optional[str]\n",
    "    subtitle: Optional[str]\n",
    "    author2: Optional[Author]\n",
    "\n",
    "    @pydantic.root_validator(pre=True)\n",
    "    @classmethod\n",
    "    def check_isbn_10_or_13(cls, values):\n",
    "        \"\"\"Make sure there is either an isbn_10 or isbn_13 value defined\"\"\"\n",
    "        if \"isbn_10\" not in values and \"isbn_13\" not in values:\n",
    "            raise ISBNMissingError(\n",
    "                title=values[\"title\"],\n",
    "                message=\"Document should have either an ISBN10 or ISBN13\",\n",
    "            )\n",
    "        return values\n",
    "\n",
    "    @pydantic.validator(\"isbn_10\")\n",
    "    @classmethod\n",
    "    def isbn_10_valid(cls, value) -> None:\n",
    "        \"\"\"Validator to check whether ISBN10 is valid\"\"\"\n",
    "        chars = [c for c in value if c in \"0123456789Xx\"]\n",
    "        if len(chars) != 10:\n",
    "            raise ISBN10FormatError(value=value, message=\"ISBN10 should be 10 digits.\")\n",
    "\n",
    "        def char_to_int(char: str) -> int:\n",
    "            if char in \"Xx\":\n",
    "                return 10\n",
    "            return int(char)\n",
    "\n",
    "        if sum((10 - i) * char_to_int(x) for i, x in enumerate(chars)) % 11 != 0:\n",
    "            raise ISBN10FormatError(\n",
    "                value=value, message=\"ISBN10 digit sum should be divisible by 11.\"\n",
    "            )\n",
    "        return value\n",
    "\n",
    "    class Config:\n",
    "        \"\"\"Pydantic config class\"\"\"\n",
    "\n",
    "        allow_mutation = False\n",
    "        anystr_lower = True\n",
    "\n",
    "\n",
    "def main() -> None:\n",
    "    \"\"\"Main function.\"\"\"\n",
    "\n",
    "    # Read data from a JSON file\n",
    "    with open(\"./data.json\") as file:\n",
    "        data = json.load(file)\n",
    "        books: List[Book] = [Book(**item) for item in data]\n",
    "        # print(books)\n",
    "        print(books[0])\n",
    "        # print(books[0].dict(exclude={\"price\"}))\n",
    "        # print(books[1].copy())\n",
    "\n",
    "\n",
    "if __name__ == \"__main__\":\n",
    "    main()"
   ]
  }
 ],
 "metadata": {
  "kernelspec": {
   "display_name": "dashboards",
   "language": "python",
   "name": "python3"
  },
  "language_info": {
   "codemirror_mode": {
    "name": "ipython",
    "version": 3
   },
   "file_extension": ".py",
   "mimetype": "text/x-python",
   "name": "python",
   "nbconvert_exporter": "python",
   "pygments_lexer": "ipython3",
   "version": "3.12.0"
  }
 },
 "nbformat": 4,
 "nbformat_minor": 2
}
