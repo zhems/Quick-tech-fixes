{
 "cells": [
  {
   "cell_type": "code",
   "execution_count": 1,
   "id": "46e4eff9",
   "metadata": {},
   "outputs": [],
   "source": [
    "import math"
   ]
  },
  {
   "cell_type": "markdown",
   "id": "3b661d9a",
   "metadata": {},
   "source": [
    "### List all callable functions"
   ]
  },
  {
   "cell_type": "code",
   "execution_count": 5,
   "id": "37cbf940",
   "metadata": {},
   "outputs": [
    {
     "data": {
      "text/plain": [
       "['acos',\n",
       " 'acosh',\n",
       " 'asin',\n",
       " 'asinh',\n",
       " 'atan',\n",
       " 'atan2',\n",
       " 'atanh',\n",
       " 'ceil',\n",
       " 'comb',\n",
       " 'copysign',\n",
       " 'cos',\n",
       " 'cosh',\n",
       " 'degrees',\n",
       " 'dist',\n",
       " 'erf',\n",
       " 'erfc',\n",
       " 'exp',\n",
       " 'expm1',\n",
       " 'fabs',\n",
       " 'factorial',\n",
       " 'floor',\n",
       " 'fmod',\n",
       " 'frexp',\n",
       " 'fsum',\n",
       " 'gamma',\n",
       " 'gcd',\n",
       " 'hypot',\n",
       " 'isclose',\n",
       " 'isfinite',\n",
       " 'isinf',\n",
       " 'isnan',\n",
       " 'isqrt',\n",
       " 'ldexp',\n",
       " 'lgamma',\n",
       " 'log',\n",
       " 'log10',\n",
       " 'log1p',\n",
       " 'log2',\n",
       " 'modf',\n",
       " 'perm',\n",
       " 'pow',\n",
       " 'prod',\n",
       " 'radians',\n",
       " 'remainder',\n",
       " 'sin',\n",
       " 'sinh',\n",
       " 'sqrt',\n",
       " 'tan',\n",
       " 'tanh',\n",
       " 'trunc']"
      ]
     },
     "execution_count": 5,
     "metadata": {},
     "output_type": "execute_result"
    }
   ],
   "source": [
    "obj_name = math\n",
    "[method_name for method_name in dir(obj_name) if callable(getattr(obj_name, method_name))]"
   ]
  },
  {
   "cell_type": "code",
   "execution_count": null,
   "id": "c1718681",
   "metadata": {},
   "outputs": [],
   "source": [
    "map(lambda p: myFunc(p, additionalArgument), pages)\n",
    "#https://stackoverflow.com/questions/10212445/map-list-item-to-function-with-arguments"
   ]
  },
  {
   "cell_type": "code",
   "execution_count": null,
   "id": "b3c3e9ce",
   "metadata": {},
   "outputs": [],
   "source": [
    "ratios[f] = max(list(map(lambda irr_col: f(irr_col, i.lower()), irrelevant_columns)))"
   ]
  },
  {
   "cell_type": "code",
   "execution_count": 4,
   "id": "67dbbcde",
   "metadata": {},
   "outputs": [
    {
     "data": {
      "text/plain": [
       "True"
      ]
     },
     "execution_count": 4,
     "metadata": {},
     "output_type": "execute_result"
    }
   ],
   "source": [
    "(walrus := True)"
   ]
  },
  {
   "cell_type": "code",
   "execution_count": 3,
   "id": "84742719",
   "metadata": {},
   "outputs": [
    {
     "data": {
      "text/plain": [
       "False"
      ]
     },
     "execution_count": 3,
     "metadata": {},
     "output_type": "execute_result"
    }
   ],
   "source": [
    "(walrus := False)"
   ]
  },
  {
   "cell_type": "code",
   "execution_count": 5,
   "id": "3df769ec",
   "metadata": {},
   "outputs": [
    {
     "data": {
      "text/plain": [
       "1"
      ]
     },
     "execution_count": 5,
     "metadata": {},
     "output_type": "execute_result"
    }
   ],
   "source": [
    "(walrus := 1)"
   ]
  },
  {
   "cell_type": "code",
   "execution_count": 7,
   "id": "fc76cb2f",
   "metadata": {},
   "outputs": [
    {
     "data": {
      "text/plain": [
       "8"
      ]
     },
     "execution_count": 7,
     "metadata": {},
     "output_type": "execute_result"
    }
   ],
   "source": [
    "2**3"
   ]
  },
  {
   "cell_type": "code",
   "execution_count": null,
   "id": "71afba77",
   "metadata": {},
   "outputs": [],
   "source": [
    "import pathlib\n",
    "import sys\n",
    "\n",
    "for filename in sys.argv[1:]:\n",
    "    path = pathlib.Path(filename)\n",
    "    counts = [\n",
    "        (text := path.read_text()).count(\"\\n\"),  # Number of lines\n",
    "        len(text.split()),  # Number of words\n",
    "        len(text),  # Number of characters\n",
    "    ]\n",
    "    print(*counts, path)"
   ]
  },
  {
   "cell_type": "code",
   "execution_count": 2,
   "id": "ef7369fb",
   "metadata": {},
   "outputs": [
    {
     "data": {
      "text/plain": [
       "[4, 2, 3, 1]"
      ]
     },
     "execution_count": 2,
     "metadata": {},
     "output_type": "execute_result"
    }
   ],
   "source": [
    "a = 'abcd'\n",
    "a = [1,2,3,4]\n",
    "a[0],a[3] = a[3],a[0]\n",
    "a"
   ]
  },
  {
   "cell_type": "code",
   "execution_count": 3,
   "id": "fd24a708",
   "metadata": {},
   "outputs": [
    {
     "data": {
      "text/plain": [
       "'d'"
      ]
     },
     "execution_count": 3,
     "metadata": {},
     "output_type": "execute_result"
    }
   ],
   "source": [
    "a = 'fsdfsd'\n",
    "a[2]"
   ]
  },
  {
   "cell_type": "code",
   "execution_count": 4,
   "id": "2e2e9af6",
   "metadata": {},
   "outputs": [
    {
     "data": {
      "text/plain": [
       "{'d', 'f', 's'}"
      ]
     },
     "execution_count": 4,
     "metadata": {},
     "output_type": "execute_result"
    }
   ],
   "source": [
    "set(a)"
   ]
  },
  {
   "cell_type": "code",
   "execution_count": 1,
   "id": "54c86f4f",
   "metadata": {},
   "outputs": [
    {
     "data": {
      "text/plain": [
       "True"
      ]
     },
     "execution_count": 1,
     "metadata": {},
     "output_type": "execute_result"
    }
   ],
   "source": [
    "(not True or not False)"
   ]
  },
  {
   "cell_type": "code",
   "execution_count": 2,
   "id": "783566eb",
   "metadata": {},
   "outputs": [],
   "source": [
    "b = lambda x,y: x+y"
   ]
  },
  {
   "cell_type": "code",
   "execution_count": 3,
   "id": "a7098689",
   "metadata": {},
   "outputs": [
    {
     "data": {
      "text/plain": [
       "5"
      ]
     },
     "execution_count": 3,
     "metadata": {},
     "output_type": "execute_result"
    }
   ],
   "source": [
    "b(1,4)"
   ]
  },
  {
   "cell_type": "code",
   "execution_count": 4,
   "id": "b991b6aa",
   "metadata": {},
   "outputs": [
    {
     "data": {
      "text/plain": [
       "3"
      ]
     },
     "execution_count": 4,
     "metadata": {},
     "output_type": "execute_result"
    }
   ],
   "source": [
    "a = 1\n",
    "a += 3-1\n",
    "a"
   ]
  },
  {
   "cell_type": "code",
   "execution_count": null,
   "id": "d567ec06",
   "metadata": {},
   "outputs": [],
   "source": []
  }
 ],
 "metadata": {
  "kernelspec": {
   "display_name": "Python 3",
   "language": "python",
   "name": "python3"
  },
  "language_info": {
   "codemirror_mode": {
    "name": "ipython",
    "version": 3
   },
   "file_extension": ".py",
   "mimetype": "text/x-python",
   "name": "python",
   "nbconvert_exporter": "python",
   "pygments_lexer": "ipython3",
   "version": "3.11.6"
  }
 },
 "nbformat": 4,
 "nbformat_minor": 5
}
