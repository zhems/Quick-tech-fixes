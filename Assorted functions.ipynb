{
 "cells": [
  {
   "cell_type": "code",
   "execution_count": 1,
   "id": "4bea75b4",
   "metadata": {},
   "outputs": [],
   "source": [
    "import math"
   ]
  },
  {
   "cell_type": "markdown",
   "id": "4ef182f7",
   "metadata": {},
   "source": [
    "### List all callable functions"
   ]
  },
  {
   "cell_type": "code",
   "execution_count": 4,
   "id": "1d7eb2bf",
   "metadata": {},
   "outputs": [
    {
     "name": "stdout",
     "output_type": "stream",
     "text": [
      "['acos', 'acosh', 'asin', 'asinh', 'atan', 'atan2', 'atanh', 'ceil', 'comb', 'copysign', 'cos', 'cosh', 'degrees', 'dist', 'erf', 'erfc', 'exp', 'expm1', 'fabs', 'factorial', 'floor', 'fmod', 'frexp', 'fsum', 'gamma', 'gcd', 'hypot', 'isclose', 'isfinite', 'isinf', 'isnan', 'isqrt', 'ldexp', 'lgamma', 'log', 'log10', 'log1p', 'log2', 'modf', 'perm', 'pow', 'prod', 'radians', 'remainder', 'sin', 'sinh', 'sqrt', 'tan', 'tanh', 'trunc']\n"
     ]
    }
   ],
   "source": [
    "print([method_name for method_name in dir(math) if callable(getattr(math, method_name))])"
   ]
  },
  {
   "cell_type": "code",
   "execution_count": null,
   "id": "45b9c088",
   "metadata": {},
   "outputs": [],
   "source": [
    "map(lambda p: myFunc(p, additionalArgument), pages)\n",
    "#https://stackoverflow.com/questions/10212445/map-list-item-to-function-with-arguments"
   ]
  },
  {
   "cell_type": "code",
   "execution_count": null,
   "id": "45c9c080",
   "metadata": {},
   "outputs": [],
   "source": [
    "for f in ratio_funcs:\n",
    "    print(f('date time', 'datetime'))",
   ]
  }
 ],
 "metadata": {
  "kernelspec": {
   "display_name": "Python 3 (ipykernel)",
   "language": "python",
   "name": "python3"
  },
  "language_info": {
   "codemirror_mode": {
    "name": "ipython",
    "version": 3
   },
   "file_extension": ".py",
   "mimetype": "text/x-python",
   "name": "python",
   "nbconvert_exporter": "python",
   "pygments_lexer": "ipython3",
   "version": "3.8.16"
  }
 },
 "nbformat": 4,
 "nbformat_minor": 5
}
