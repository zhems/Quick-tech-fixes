{
 "cells": [
  {
   "cell_type": "code",
   "execution_count": null,
   "metadata": {},
   "outputs": [],
   "source": [
    "from huggingface_hub import hf_hub_download\n",
    "import joblib\n",
    "\n",
    "REPO_ID = \"YOUR_REPO_ID\"\n",
    "FILENAME = \"sklearn_model.joblib\"\n",
    "\n",
    "model = joblib.load(\n",
    "    hf_hub_download(repo_id=REPO_ID, filename=FILENAME)\n",
    ")"
   ]
  },
  {
   "cell_type": "code",
   "execution_count": 1,
   "metadata": {},
   "outputs": [],
   "source": [
    "from huggingface_hub import snapshot_download"
   ]
  },
  {
   "cell_type": "code",
   "execution_count": 3,
   "metadata": {},
   "outputs": [
    {
     "data": {
      "application/vnd.jupyter.widget-view+json": {
       "model_id": "74feb9bbc1eb430aa56484b50fd0cfa3",
       "version_major": 2,
       "version_minor": 0
      },
      "text/plain": [
       "Fetching 6 files:   0%|          | 0/6 [00:00<?, ?it/s]"
      ]
     },
     "metadata": {},
     "output_type": "display_data"
    },
    {
     "data": {
      "application/vnd.jupyter.widget-view+json": {
       "model_id": "1e00b348ae4a454abb12e00552b6df7f",
       "version_major": 2,
       "version_minor": 0
      },
      "text/plain": [
       "Downloading (…)5488.ovyeman.33996.9:   0%|          | 0.00/40.0 [00:00<?, ?B/s]"
      ]
     },
     "metadata": {},
     "output_type": "display_data"
    },
    {
     "data": {
      "application/vnd.jupyter.widget-view+json": {
       "model_id": "96666fd331ae42a68e06528127e9b102",
       "version_major": 2,
       "version_minor": 0
      },
      "text/plain": [
       "Downloading best.pt:   0%|          | 0.00/52.0M [00:00<?, ?B/s]"
      ]
     },
     "metadata": {},
     "output_type": "display_data"
    },
    {
     "data": {
      "application/vnd.jupyter.widget-view+json": {
       "model_id": "6a8b956e841a470194bff042778a24d4",
       "version_major": 2,
       "version_minor": 0
      },
      "text/plain": [
       "Downloading (…)abcdc5/thumbnail.jpg:   0%|          | 0.00/465k [00:00<?, ?B/s]"
      ]
     },
     "metadata": {},
     "output_type": "display_data"
    },
    {
     "data": {
      "application/vnd.jupyter.widget-view+json": {
       "model_id": "99d34d634a6e49878a7452eed044a471",
       "version_major": 2,
       "version_minor": 0
      },
      "text/plain": [
       "Downloading (…)bcdc5/.gitattributes:   0%|          | 0.00/1.48k [00:00<?, ?B/s]"
      ]
     },
     "metadata": {},
     "output_type": "display_data"
    },
    {
     "data": {
      "application/vnd.jupyter.widget-view+json": {
       "model_id": "77970870af424ed0b6902883cc02c985",
       "version_major": 2,
       "version_minor": 0
      },
      "text/plain": [
       "Downloading (…)6fabcdc5/config.json:   0%|          | 0.00/161 [00:00<?, ?B/s]"
      ]
     },
     "metadata": {},
     "output_type": "display_data"
    },
    {
     "data": {
      "application/vnd.jupyter.widget-view+json": {
       "model_id": "11de08075f2b4f94bf16a53a4bf5db24",
       "version_major": 2,
       "version_minor": 0
      },
      "text/plain": [
       "Downloading (…)c86fabcdc5/README.md:   0%|          | 0.00/1.80k [00:00<?, ?B/s]"
      ]
     },
     "metadata": {},
     "output_type": "display_data"
    },
    {
     "data": {
      "text/plain": [
       "'/home/zhemin/Documents/models/keremberke/yolov8m-table-extraction'"
      ]
     },
     "execution_count": 3,
     "metadata": {},
     "output_type": "execute_result"
    }
   ],
   "source": [
    "repo = \"keremberke/yolov8m-table-extraction\"\n",
    "snapshot_download(repo_id=repo,local_dir=f\"/home/zhemin/Documents/models/{repo}/\",local_dir_use_symlinks=False)"
   ]
  },
  {
   "cell_type": "code",
   "execution_count": 6,
   "metadata": {},
   "outputs": [
    {
     "data": {
      "application/vnd.jupyter.widget-view+json": {
       "model_id": "8aa96f98f48944a6b0229bd321ed99c3",
       "version_major": 2,
       "version_minor": 0
      },
      "text/plain": [
       "Fetching 57 files:   0%|          | 0/57 [00:00<?, ?it/s]"
      ]
     },
     "metadata": {},
     "output_type": "display_data"
    },
    {
     "data": {
      "text/plain": [
       "'/home/zhemin/Documents/models/stabilityai/stable-diffusion-xl-base-1.0'"
      ]
     },
     "execution_count": 6,
     "metadata": {},
     "output_type": "execute_result"
    }
   ],
   "source": [
    "repo = \"stabilityai/stable-diffusion-xl-base-1.0\"\n",
    "snapshot_download(repo_id=repo,local_dir=f\"/home/zhemin/Documents/models/{repo}/\",local_dir_use_symlinks=False)"
   ]
  },
  {
   "cell_type": "code",
   "execution_count": 8,
   "metadata": {},
   "outputs": [
    {
     "data": {
      "application/vnd.jupyter.widget-view+json": {
       "model_id": "da0efbddd4504dee9639c24627fad9bb",
       "version_major": 2,
       "version_minor": 0
      },
      "text/plain": [
       "Fetching 6 files:   0%|          | 0/6 [00:00<?, ?it/s]"
      ]
     },
     "metadata": {},
     "output_type": "display_data"
    },
    {
     "data": {
      "application/vnd.jupyter.widget-view+json": {
       "model_id": "b0dc7b31692542bd9ac51b95f086fdad",
       "version_major": 2,
       "version_minor": 0
      },
      "text/plain": [
       "Downloading (…)c86fabcdc5/README.md:   0%|          | 0.00/1.80k [00:00<?, ?B/s]"
      ]
     },
     "metadata": {},
     "output_type": "display_data"
    },
    {
     "data": {
      "application/vnd.jupyter.widget-view+json": {
       "model_id": "df125afda98745fbb1370bc8d578fd67",
       "version_major": 2,
       "version_minor": 0
      },
      "text/plain": [
       "Downloading (…)abcdc5/thumbnail.jpg:   0%|          | 0.00/465k [00:00<?, ?B/s]"
      ]
     },
     "metadata": {},
     "output_type": "display_data"
    },
    {
     "data": {
      "application/vnd.jupyter.widget-view+json": {
       "model_id": "809138851b2646c1b217276909ef14c9",
       "version_major": 2,
       "version_minor": 0
      },
      "text/plain": [
       "Downloading (…)bcdc5/.gitattributes:   0%|          | 0.00/1.48k [00:00<?, ?B/s]"
      ]
     },
     "metadata": {},
     "output_type": "display_data"
    },
    {
     "data": {
      "application/vnd.jupyter.widget-view+json": {
       "model_id": "3ca7ead1406d444abf947d2204053b6c",
       "version_major": 2,
       "version_minor": 0
      },
      "text/plain": [
       "Downloading (…)6fabcdc5/config.json:   0%|          | 0.00/161 [00:00<?, ?B/s]"
      ]
     },
     "metadata": {},
     "output_type": "display_data"
    },
    {
     "data": {
      "application/vnd.jupyter.widget-view+json": {
       "model_id": "5010a0bbeefb4a1390d9fb3f29e81e60",
       "version_major": 2,
       "version_minor": 0
      },
      "text/plain": [
       "Downloading (…)5488.ovyeman.33996.9:   0%|          | 0.00/40.0 [00:00<?, ?B/s]"
      ]
     },
     "metadata": {},
     "output_type": "display_data"
    },
    {
     "data": {
      "application/vnd.jupyter.widget-view+json": {
       "model_id": "06d1af1aa1484a629989a4e1d5ef1157",
       "version_major": 2,
       "version_minor": 0
      },
      "text/plain": [
       "Downloading best.pt:   0%|          | 0.00/52.0M [00:00<?, ?B/s]"
      ]
     },
     "metadata": {},
     "output_type": "display_data"
    },
    {
     "data": {
      "text/plain": [
       "'/home/zhemin/Documents/models/keremberke/yolov8m-table-extraction'"
      ]
     },
     "execution_count": 8,
     "metadata": {},
     "output_type": "execute_result"
    }
   ],
   "source": [
    "repo = \"keremberke/yolov8m-table-extraction\"\n",
    "snapshot_download(repo_id=repo,local_dir=f\"/home/zhemin/Documents/models/{repo}/\",local_dir_use_symlinks=False)"
   ]
  },
  {
   "cell_type": "code",
   "execution_count": null,
   "metadata": {},
   "outputs": [],
   "source": []
  }
 ],
 "metadata": {
  "kernelspec": {
   "display_name": "llama",
   "language": "python",
   "name": "python3"
  },
  "language_info": {
   "codemirror_mode": {
    "name": "ipython",
    "version": 3
   },
   "file_extension": ".py",
   "mimetype": "text/x-python",
   "name": "python",
   "nbconvert_exporter": "python",
   "pygments_lexer": "ipython3",
   "version": "3.11.4"
  },
  "orig_nbformat": 4
 },
 "nbformat": 4,
 "nbformat_minor": 2
}
